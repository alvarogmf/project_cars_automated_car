{
 "cells": [
  {
   "cell_type": "code",
   "execution_count": 29,
   "id": "a3502e60",
   "metadata": {},
   "outputs": [],
   "source": [
    "import numpy as np\n",
    "import pandas as pd"
   ]
  },
  {
   "cell_type": "code",
   "execution_count": 30,
   "id": "227ad18d",
   "metadata": {},
   "outputs": [],
   "source": [
    "from tensorflow.config.experimental import list_physical_devices, set_memory_growth\n",
    "physical_devices = list_physical_devices('GPU')\n",
    "set_memory_growth(physical_devices[0], True)"
   ]
  },
  {
   "cell_type": "code",
   "execution_count": 31,
   "id": "b4dfdb8d",
   "metadata": {},
   "outputs": [],
   "source": [
    "import tensorflow.keras.backend as K\n",
    "K.clear_session()"
   ]
  },
  {
   "cell_type": "code",
   "execution_count": 32,
   "id": "926e9901",
   "metadata": {},
   "outputs": [],
   "source": [
    "train_data_v2 = np.load('../../data/training_data_v4.npy', allow_pickle=True)"
   ]
  },
  {
   "cell_type": "code",
   "execution_count": 33,
   "id": "de490485",
   "metadata": {},
   "outputs": [
    {
     "name": "stdout",
     "output_type": "stream",
     "text": [
      "                                                   0          1\n",
      "0  [[11, 25, 22, 28, 29, 28, 25, 30, 30, 29, 22, ...  [0, 1, 0]\n",
      "1  [[96, 74, 101, 164, 171, 171, 170, 169, 169, 1...  [1, 0, 0]\n",
      "2  [[187, 186, 185, 185, 183, 183, 182, 181, 181,...  [0, 0, 1]\n",
      "3  [[251, 251, 250, 250, 249, 249, 248, 248, 247,...  [1, 0, 0]\n",
      "4  [[60, 113, 74, 48, 62, 52, 54, 42, 52, 101, 16...  [1, 0, 0]\n"
     ]
    }
   ],
   "source": [
    "df = pd.DataFrame(train_data_v2)\n",
    "print(df.head())"
   ]
  },
  {
   "cell_type": "code",
   "execution_count": 34,
   "id": "f1c6fd93",
   "metadata": {
    "jupyter": {
     "source_hidden": true
    },
    "tags": []
   },
   "outputs": [],
   "source": [
    "# from keras_preprocessing.image import ImageDataGenerator\n",
    "\n",
    "# datagen = ImageDataGenerator(rescale=1./255.,\n",
    "#                              validation_split=0.2,\n",
    "#                              rotation_range=10, # rotation\n",
    "#                              width_shift_range=0.2, # horizontal shift\n",
    "#                              height_shift_range=0.2, # vertical shift\n",
    "#                              zoom_range=0.2, # zoom\n",
    "#                              horizontal_flip=True, # horizontal flip\n",
    "#                              brightness_range=[0.2,1.2]) # brightness)"
   ]
  },
  {
   "cell_type": "code",
   "execution_count": 35,
   "id": "5e35a350",
   "metadata": {
    "jupyter": {
     "source_hidden": true
    },
    "tags": []
   },
   "outputs": [],
   "source": [
    "# train_generator  = datagen.flow_from_dataframe(\n",
    "#     dataframe=train_data_v2[1],\n",
    "#     directory=save_dir,\n",
    "#     x_col=\"path\",\n",
    "#     y_col=\"binary_score\",\n",
    "#     target_size=(80, 60),\n",
    "#     color_mode=\"rgb\",\n",
    "#     batch_size=64,\n",
    "#     save_to_dir='png_images_resized/',\n",
    "#     save_format=\"png\",\n",
    "#     class_mode=\"binary\",\n",
    "#     subset='training',\n",
    "#     shuffle = True\n",
    "# )\n",
    "\n",
    "\n",
    "# validation_generator  = datagen.flow_from_dataframe(\n",
    "#     dataframe=train_clean,\n",
    "#     directory=save_dir,\n",
    "#     x_col=\"path\",\n",
    "#     y_col=\"binary_score\",\n",
    "#     target_size=(258, 258),\n",
    "#     color_mode=\"rgb\",\n",
    "#     batch_size=64, #deberia ser mas alto que el del modelo (sugerencia)\n",
    "#     save_to_dir='png_images_resized/',\n",
    "#     save_format=\"png\",\n",
    "#     class_mode=\"binary\",\n",
    "#     subset='validation',\n",
    "#     shuffle = True\n",
    "# )"
   ]
  },
  {
   "cell_type": "code",
   "execution_count": 36,
   "id": "b6a3d38d",
   "metadata": {
    "tags": []
   },
   "outputs": [],
   "source": [
    "import tflearn\n",
    "from tflearn.layers.conv import conv_2d, max_pool_2d\n",
    "from tflearn.layers.core import input_data, dropout, fully_connected\n",
    "from tflearn.layers.estimator import regression\n",
    "from tflearn.layers.normalization import local_response_normalization\n",
    "\n",
    "def alexnet(width, height, lr):\n",
    "    network = input_data(shape=[None, width, height, 1], name='input')\n",
    "    network = conv_2d(network, 96, 11, strides=4, activation='relu')\n",
    "    network = max_pool_2d(network, 3, strides=2)\n",
    "    network = local_response_normalization(network)\n",
    "    network = conv_2d(network, 256, 5, activation='relu')\n",
    "    network = max_pool_2d(network, 3, strides=2)\n",
    "    network = local_response_normalization(network)\n",
    "    network = conv_2d(network, 384, 3, activation='relu')\n",
    "    network = conv_2d(network, 384, 3, activation='relu')\n",
    "    network = conv_2d(network, 256, 3, activation='relu')\n",
    "    network = max_pool_2d(network, 3, strides=2)\n",
    "    network = local_response_normalization(network)\n",
    "    network = fully_connected(network, 4096, activation='tanh')\n",
    "    network = dropout(network, 0.5)\n",
    "    network = fully_connected(network, 4096, activation='tanh')\n",
    "    network = dropout(network, 0.5)\n",
    "    network = fully_connected(network, 3, activation='softmax')\n",
    "    network = regression(network, optimizer='momentum',\n",
    "                         loss='categorical_crossentropy',\n",
    "                         learning_rate=lr, name='targets')\n",
    "\n",
    "    model = tflearn.DNN(network, checkpoint_path='model_alexnet',\n",
    "                        max_checkpoints=1, tensorboard_verbose=2, tensorboard_dir='log')\n",
    "\n",
    "    return model"
   ]
  },
  {
   "cell_type": "code",
   "execution_count": 37,
   "id": "e1b9fb6f",
   "metadata": {
    "tags": []
   },
   "outputs": [],
   "source": [
    "WIDTH = 80\n",
    "HEIGHT = 60\n",
    "LR = 1e-3\n",
    "EPOCHS = 12\n",
    "MODEL_NAME = 'pygta5-car-{}-{}-{}-epochs.model'.format(LR, 'alexnetv2',EPOCHS)\n",
    "\n",
    "model = alexnet(WIDTH, HEIGHT, LR)"
   ]
  },
  {
   "cell_type": "code",
   "execution_count": 41,
   "id": "816f198a",
   "metadata": {
    "tags": []
   },
   "outputs": [
    {
     "name": "stderr",
     "output_type": "stream",
     "text": [
      "<ipython-input-41-e87fc2838f6e>:6: VisibleDeprecationWarning: Creating an ndarray from ragged nested sequences (which is a list-or-tuple of lists-or-tuples-or ndarrays with different lengths or shapes) is deprecated. If you meant to do this, you must specify 'dtype=object' when creating the ndarray\n",
      "  X = np.array([i[0] for i in train]).reshape(-1,WIDTH,HEIGHT,1)\n"
     ]
    },
    {
     "ename": "ValueError",
     "evalue": "cannot reshape array of size 50251 into shape (80,60,1)",
     "output_type": "error",
     "traceback": [
      "\u001b[1;31m---------------------------------------------------------------------------\u001b[0m",
      "\u001b[1;31mValueError\u001b[0m                                Traceback (most recent call last)",
      "\u001b[1;32m<ipython-input-41-e87fc2838f6e>\u001b[0m in \u001b[0;36m<module>\u001b[1;34m\u001b[0m\n\u001b[0;32m      4\u001b[0m \u001b[0mtest\u001b[0m \u001b[1;33m=\u001b[0m \u001b[0mtrain_data\u001b[0m\u001b[1;33m[\u001b[0m\u001b[1;33m-\u001b[0m\u001b[1;36m500\u001b[0m\u001b[1;33m:\u001b[0m\u001b[1;33m]\u001b[0m\u001b[1;33m\u001b[0m\u001b[1;33m\u001b[0m\u001b[0m\n\u001b[0;32m      5\u001b[0m \u001b[1;33m\u001b[0m\u001b[0m\n\u001b[1;32m----> 6\u001b[1;33m \u001b[0mX\u001b[0m \u001b[1;33m=\u001b[0m \u001b[0mnp\u001b[0m\u001b[1;33m.\u001b[0m\u001b[0marray\u001b[0m\u001b[1;33m(\u001b[0m\u001b[1;33m[\u001b[0m\u001b[0mi\u001b[0m\u001b[1;33m[\u001b[0m\u001b[1;36m0\u001b[0m\u001b[1;33m]\u001b[0m \u001b[1;32mfor\u001b[0m \u001b[0mi\u001b[0m \u001b[1;32min\u001b[0m \u001b[0mtrain\u001b[0m\u001b[1;33m]\u001b[0m\u001b[1;33m)\u001b[0m\u001b[1;33m.\u001b[0m\u001b[0mreshape\u001b[0m\u001b[1;33m(\u001b[0m\u001b[1;33m-\u001b[0m\u001b[1;36m1\u001b[0m\u001b[1;33m,\u001b[0m\u001b[0mWIDTH\u001b[0m\u001b[1;33m,\u001b[0m\u001b[0mHEIGHT\u001b[0m\u001b[1;33m,\u001b[0m\u001b[1;36m1\u001b[0m\u001b[1;33m)\u001b[0m\u001b[1;33m\u001b[0m\u001b[1;33m\u001b[0m\u001b[0m\n\u001b[0m\u001b[0;32m      7\u001b[0m \u001b[0mY\u001b[0m \u001b[1;33m=\u001b[0m \u001b[1;33m[\u001b[0m\u001b[0mi\u001b[0m\u001b[1;33m[\u001b[0m\u001b[1;36m1\u001b[0m\u001b[1;33m]\u001b[0m \u001b[1;32mfor\u001b[0m \u001b[0mi\u001b[0m \u001b[1;32min\u001b[0m \u001b[0mtrain\u001b[0m\u001b[1;33m]\u001b[0m\u001b[1;33m\u001b[0m\u001b[1;33m\u001b[0m\u001b[0m\n\u001b[0;32m      8\u001b[0m \u001b[1;33m\u001b[0m\u001b[0m\n",
      "\u001b[1;31mValueError\u001b[0m: cannot reshape array of size 50251 into shape (80,60,1)"
     ]
    }
   ],
   "source": [
    "train_data = np.load('../../data/training_data_v4.npy', allow_pickle=True)\n",
    "\n",
    "train = train_data[:-500]\n",
    "test = train_data[-500:]\n",
    "\n",
    "X = np.array([i[0] for i in train]).reshape(-1,WIDTH,HEIGHT,1)\n",
    "Y = [i[1] for i in train]\n",
    "\n",
    "test_x = np.array([i[0] for i in test]).reshape(-1,WIDTH,HEIGHT,1)\n",
    "test_y = [i[1] for i in test]\n"
   ]
  },
  {
   "cell_type": "code",
   "execution_count": 23,
   "id": "e90ba314",
   "metadata": {
    "tags": []
   },
   "outputs": [
    {
     "name": "stdout",
     "output_type": "stream",
     "text": [
      "Training Step: 4667  | total loss: \u001b[1m\u001b[32m0.22426\u001b[0m\u001b[0m | time: 383.675s\n",
      "| Momentum | epoch: 012 | loss: 0.22426 - acc: 0.9352 -- iter: 24832/24877\n",
      "Training Step: 4668  | total loss: \u001b[1m\u001b[32m0.21050\u001b[0m\u001b[0m | time: 385.600s\n",
      "| Momentum | epoch: 012 | loss: 0.21050 - acc: 0.9385 | val_loss: 0.29430 - val_acc: 0.9140 -- iter: 24877/24877\n",
      "--\n"
     ]
    }
   ],
   "source": [
    "# model.fit({'input': X}, {'targets': Y}, n_epoch=EPOCHS, validation_set=({'input': test_x}, {'targets': test_y}), \n",
    "#     snapshot_step=500, show_metric=True, run_id=MODEL_NAME)"
   ]
  },
  {
   "cell_type": "code",
   "execution_count": 24,
   "id": "dfb5c934",
   "metadata": {
    "tags": []
   },
   "outputs": [],
   "source": [
    "model.save(MODEL_NAME)"
   ]
  },
  {
   "cell_type": "code",
   "execution_count": 12,
   "id": "47f71287",
   "metadata": {},
   "outputs": [],
   "source": [
    "train_data_v2 = np.load('../../data/training_data_v2.npy', allow_pickle=True)\n",
    "\n",
    "train_data_v3 = np.load('../../data/training_data_v3.npy', allow_pickle=True)"
   ]
  },
  {
   "cell_type": "code",
   "execution_count": 28,
   "id": "8cbe90e9",
   "metadata": {},
   "outputs": [
    {
     "name": "stdout",
     "output_type": "stream",
     "text": [
      "                                                   0          1\n",
      "0  [[161, 160, 159, 159, 159, 158, 157, 157, 157,...  [1, 0, 0]\n",
      "1  [[252, 252, 251, 251, 251, 250, 250, 249, 248,...  [0, 0, 1]\n",
      "2  [[178, 177, 177, 177, 176, 176, 175, 174, 174,...  [0, 0, 1]\n",
      "3  [[177, 176, 176, 175, 175, 175, 174, 174, 173,...  [0, 0, 1]\n",
      "4  [[177, 177, 176, 176, 175, 175, 175, 174, 174,...  [0, 0, 1]\n",
      "                                                   0          1\n",
      "0  [[64, 169, 168, 167, 167, 167, 166, 166, 165, ...  [0, 0, 1]\n",
      "1  [[204, 204, 202, 200, 198, 197, 196, 194, 192,...  [0, 0, 1]\n",
      "2  [[175, 175, 174, 173, 173, 172, 171, 170, 169,...  [0, 0, 1]\n",
      "3  [[233, 233, 232, 232, 232, 231, 230, 230, 230,...  [1, 0, 0]\n",
      "4  [[238, 237, 236, 234, 234, 232, 231, 229, 227,...  [1, 0, 0]\n"
     ]
    },
    {
     "data": {
      "text/plain": [
       "(49506,)"
      ]
     },
     "execution_count": 28,
     "metadata": {},
     "output_type": "execute_result"
    }
   ],
   "source": [
    "df_v2 = pd.DataFrame(train_data_v2)\n",
    "print(df_v2.head())\n",
    "df_v3 = pd.DataFrame(train_data_v3)\n",
    "print(df_v3.head())\n",
    "\n",
    "df_v2[0].shape\n",
    "df_v3[0].shape"
   ]
  }
 ],
 "metadata": {
  "kernelspec": {
   "display_name": "prostate",
   "language": "python",
   "name": "prostate"
  },
  "language_info": {
   "codemirror_mode": {
    "name": "ipython",
    "version": 3
   },
   "file_extension": ".py",
   "mimetype": "text/x-python",
   "name": "python",
   "nbconvert_exporter": "python",
   "pygments_lexer": "ipython3",
   "version": "3.8.8"
  }
 },
 "nbformat": 4,
 "nbformat_minor": 5
}
