{
 "cells": [
  {
   "cell_type": "markdown",
   "id": "1a618d4d",
   "metadata": {},
   "source": [
    "# Automated Car in Project Cars"
   ]
  },
  {
   "cell_type": "markdown",
   "id": "b3269a97",
   "metadata": {},
   "source": [
    "Work based on the project madeby Sentdex in his blog: https://pythonprogramming.net/game-frames-open-cv-python-plays-gta-v/\n",
    "    "
   ]
  },
  {
   "cell_type": "markdown",
   "id": "2d570490",
   "metadata": {},
   "source": [
    "## Main formulas"
   ]
  },
  {
   "cell_type": "code",
   "execution_count": 1,
   "id": "a4b056af",
   "metadata": {},
   "outputs": [],
   "source": [
    "import numpy as np\n",
    "from numpy import ones,vstack\n",
    "from numpy.linalg import lstsq\n",
    "from PIL import ImageGrab\n",
    "import cv2\n",
    "import time\n",
    "from IPython.display import Image\n",
    "import ctypes\n",
    "from statistics import mean\n",
    "import win32gui, win32ui, win32con, win32api\n",
    "import os\n",
    "import pandas as pd\n",
    "from collections import Counter\n",
    "from random import shuffle\n",
    "from PIL import Image as im\n",
    "from keras_preprocessing.image import ImageDataGenerator"
   ]
  },
  {
   "cell_type": "code",
   "execution_count": 2,
   "id": "be521fbd",
   "metadata": {},
   "outputs": [],
   "source": [
    "def screen_record(): \n",
    "    last_time = time.time()\n",
    "    while(True):\n",
    "        # 800x600 windowed mode\n",
    "        printscreen =  np.array(ImageGrab.grab(bbox=(0,40,800,640)))\n",
    "        print('loop took {} seconds'.format(time.time()-last_time))\n",
    "        last_time = time.time()\n",
    "        cv2.imshow('window',cv2.cvtColor(printscreen, cv2.COLOR_BGR2RGB))\n",
    "        if cv2.waitKey(25) & 0xFF == ord('q'):\n",
    "            cv2.destroyAllWindows()\n",
    "            break"
   ]
  },
  {
   "cell_type": "code",
   "execution_count": 3,
   "id": "2dabc4b4",
   "metadata": {},
   "outputs": [],
   "source": [
    "def process_img(image):\n",
    "    original_image = image\n",
    "    # convert to gray\n",
    "    processed_img = cv2.cvtColor(image, cv2.COLOR_BGR2GRAY)\n",
    "    # edge detection\n",
    "    processed_img =  cv2.Canny(processed_img, threshold1 = 200, threshold2=300)\n",
    "    \n",
    "    processed_img = cv2.GaussianBlur(processed_img,(5,5),0)\n",
    "    \n",
    "    vertices = np.array([[10,500],[10,300],[300,200],[500,200],[800,300],[800,500],\n",
    "                         ], np.int32)\n",
    "\n",
    "    processed_img = roi(processed_img, [vertices])\n",
    "\n",
    "    # more info: http://docs.opencv.org/3.0-beta/doc/py_tutorials/py_imgproc/py_houghlines/py_houghlines.html\n",
    "    #                                     rho   theta   thresh  min length, max gap:        \n",
    "    lines = cv2.HoughLinesP(processed_img, 1, np.pi/180, 180,      20,       15)\n",
    "    m1 = 0\n",
    "    m2 = 0\n",
    "    try:\n",
    "        l1, l2, m1,m2 = draw_lanes(original_image,lines)\n",
    "        cv2.line(original_image, (l1[0], l1[1]), (l1[2], l1[3]), [0,255,0], 30)\n",
    "        cv2.line(original_image, (l2[0], l2[1]), (l2[2], l2[3]), [0,255,0], 30)\n",
    "    except Exception as e:\n",
    "        print(str(e))\n",
    "        pass\n",
    "    try:\n",
    "        for coords in lines:\n",
    "            coords = coords[0]\n",
    "            try:\n",
    "                cv2.line(processed_img, (coords[0], coords[1]), (coords[2], coords[3]), [255,0,0], 3)\n",
    "                \n",
    "                \n",
    "            except Exception as e:\n",
    "                print(str(e))\n",
    "    except Exception as e:\n",
    "        pass\n",
    "\n",
    "    return processed_img,original_image, m1, m2"
   ]
  },
  {
   "cell_type": "code",
   "execution_count": 4,
   "id": "b26cb8d4",
   "metadata": {},
   "outputs": [],
   "source": [
    "def draw_lines(img, lines):\n",
    "    try:\n",
    "        for line in lines:\n",
    "            coords = line[0]\n",
    "            cv2.line(img, (coords[0],coords[1]), (coords[2],coords[3]), [255,255,255], 3)\n",
    "    except:\n",
    "        pass"
   ]
  },
  {
   "cell_type": "code",
   "execution_count": 5,
   "id": "5c9d1e68",
   "metadata": {},
   "outputs": [],
   "source": [
    "def roi(img, vertices):\n",
    "    \n",
    "    #blank mask:\n",
    "    mask = np.zeros_like(img)   \n",
    "    \n",
    "    #filling pixels inside the polygon defined by \"vertices\" with the fill color    \n",
    "    cv2.fillPoly(mask, vertices, 255)\n",
    "    \n",
    "    #returning the image only where mask pixels are nonzero\n",
    "    masked = cv2.bitwise_and(img, mask)\n",
    "    return masked"
   ]
  },
  {
   "cell_type": "code",
   "execution_count": 6,
   "id": "d6515507",
   "metadata": {},
   "outputs": [],
   "source": [
    "def draw_lanes(img, lines, color=[0, 255, 255], thickness=3):\n",
    "\n",
    "    # if this fails, go with some default line\n",
    "    try:\n",
    "\n",
    "        # finds the maximum y value for a lane marker \n",
    "        # (since we cannot assume the horizon will always be at the same point.)\n",
    "\n",
    "        ys = []  \n",
    "        for i in lines:\n",
    "            for ii in i:\n",
    "                ys += [ii[1],ii[3]]\n",
    "        min_y = min(ys)\n",
    "        max_y = 600\n",
    "        new_lines = []\n",
    "        line_dict = {}\n",
    "\n",
    "        for idx,i in enumerate(lines):\n",
    "            for xyxy in i:\n",
    "                # These four lines:\n",
    "                # modified from http://stackoverflow.com/questions/21565994/method-to-return-the-equation-of-a-straight-line-given-two-points\n",
    "                # Used to calculate the definition of a line, given two sets of coords.\n",
    "                x_coords = (xyxy[0],xyxy[2])\n",
    "                y_coords = (xyxy[1],xyxy[3])\n",
    "                A = vstack([x_coords,ones(len(x_coords))]).T\n",
    "                m, b = lstsq(A, y_coords)[0]\n",
    "\n",
    "                # Calculating our new, and improved, xs\n",
    "                x1 = (min_y-b) / m\n",
    "                x2 = (max_y-b) / m\n",
    "\n",
    "                line_dict[idx] = [m,b,[int(x1), min_y, int(x2), max_y]]\n",
    "                new_lines.append([int(x1), min_y, int(x2), max_y])\n",
    "\n",
    "        final_lanes = {}\n",
    "\n",
    "        for idx in line_dict:\n",
    "            final_lanes_copy = final_lanes.copy()\n",
    "            m = line_dict[idx][0]\n",
    "            b = line_dict[idx][1]\n",
    "            line = line_dict[idx][2]\n",
    "            \n",
    "            if len(final_lanes) == 0:\n",
    "                final_lanes[m] = [ [m,b,line] ]\n",
    "                \n",
    "            else:\n",
    "                found_copy = False\n",
    "\n",
    "                for other_ms in final_lanes_copy:\n",
    "\n",
    "                    if not found_copy:\n",
    "                        if abs(other_ms*1.2) > abs(m) > abs(other_ms*0.8):\n",
    "                            if abs(final_lanes_copy[other_ms][0][1]*1.2) > abs(b) > abs(final_lanes_copy[other_ms][0][1]*0.8):\n",
    "                                final_lanes[other_ms].append([m,b,line])\n",
    "                                found_copy = True\n",
    "                                break\n",
    "                        else:\n",
    "                            final_lanes[m] = [ [m,b,line] ]\n",
    "\n",
    "        line_counter = {}\n",
    "\n",
    "        for lanes in final_lanes:\n",
    "            line_counter[lanes] = len(final_lanes[lanes])\n",
    "\n",
    "        top_lanes = sorted(line_counter.items(), key=lambda item: item[1])[::-1][:2]\n",
    "\n",
    "        lane1_id = top_lanes[0][0]\n",
    "        lane2_id = top_lanes[1][0]\n",
    "\n",
    "        def average_lane(lane_data):\n",
    "            x1s = []\n",
    "            y1s = []\n",
    "            x2s = []\n",
    "            y2s = []\n",
    "            for data in lane_data:\n",
    "                x1s.append(data[2][0])\n",
    "                y1s.append(data[2][1])\n",
    "                x2s.append(data[2][2])\n",
    "                y2s.append(data[2][3])\n",
    "            return int(mean(x1s)), int(mean(y1s)), int(mean(x2s)), int(mean(y2s)) \n",
    "\n",
    "        l1_x1, l1_y1, l1_x2, l1_y2 = average_lane(final_lanes[lane1_id])\n",
    "        l2_x1, l2_y1, l2_x2, l2_y2 = average_lane(final_lanes[lane2_id])\n",
    "\n",
    "        return [l1_x1, l1_y1, l1_x2, l1_y2], [l2_x1, l2_y1, l2_x2, l2_y2], lane1_id, lane2_id\n",
    "    except Exception as e:\n",
    "        print(str(e))"
   ]
  },
  {
   "cell_type": "code",
   "execution_count": 7,
   "id": "d61ebb69",
   "metadata": {},
   "outputs": [],
   "source": [
    "# direct inputs\n",
    "# source to this solution and code:\n",
    "# http://stackoverflow.com/questions/14489013/simulate-python-keypresses-for-controlling-a-game\n",
    "# http://www.gamespp.com/directx/directInputKeyboardScanCodes.html\n",
    "\n",
    "SendInput = ctypes.windll.user32.SendInput\n",
    "\n",
    "\n",
    "W = 0x11\n",
    "A = 0x1E\n",
    "S = 0x1F\n",
    "D = 0x20\n",
    "\n",
    "# C struct redefinitions \n",
    "PUL = ctypes.POINTER(ctypes.c_ulong)\n",
    "class KeyBdInput(ctypes.Structure):\n",
    "    _fields_ = [(\"wVk\", ctypes.c_ushort),\n",
    "                (\"wScan\", ctypes.c_ushort),\n",
    "                (\"dwFlags\", ctypes.c_ulong),\n",
    "                (\"time\", ctypes.c_ulong),\n",
    "                (\"dwExtraInfo\", PUL)]\n",
    "\n",
    "class HardwareInput(ctypes.Structure):\n",
    "    _fields_ = [(\"uMsg\", ctypes.c_ulong),\n",
    "                (\"wParamL\", ctypes.c_short),\n",
    "                (\"wParamH\", ctypes.c_ushort)]\n",
    "\n",
    "class MouseInput(ctypes.Structure):\n",
    "    _fields_ = [(\"dx\", ctypes.c_long),\n",
    "                (\"dy\", ctypes.c_long),\n",
    "                (\"mouseData\", ctypes.c_ulong),\n",
    "                (\"dwFlags\", ctypes.c_ulong),\n",
    "                (\"time\",ctypes.c_ulong),\n",
    "                (\"dwExtraInfo\", PUL)]\n",
    "\n",
    "class Input_I(ctypes.Union):\n",
    "    _fields_ = [(\"ki\", KeyBdInput),\n",
    "                 (\"mi\", MouseInput),\n",
    "                 (\"hi\", HardwareInput)]\n",
    "\n",
    "class Input(ctypes.Structure):\n",
    "    _fields_ = [(\"type\", ctypes.c_ulong),\n",
    "                (\"ii\", Input_I)]\n",
    "\n",
    "# Actuals Functions\n",
    "\n",
    "def PressKey(hexKeyCode):\n",
    "    extra = ctypes.c_ulong(0)\n",
    "    ii_ = Input_I()\n",
    "    ii_.ki = KeyBdInput( 0, hexKeyCode, 0x0008, 0, ctypes.pointer(extra) )\n",
    "    x = Input( ctypes.c_ulong(1), ii_ )\n",
    "    ctypes.windll.user32.SendInput(1, ctypes.pointer(x), ctypes.sizeof(x))\n",
    "\n",
    "def ReleaseKey(hexKeyCode):\n",
    "    extra = ctypes.c_ulong(0)\n",
    "    ii_ = Input_I()\n",
    "    ii_.ki = KeyBdInput( 0, hexKeyCode, 0x0008 | 0x0002, 0, ctypes.pointer(extra) )\n",
    "    x = Input( ctypes.c_ulong(1), ii_ )\n",
    "    ctypes.windll.user32.SendInput(1, ctypes.pointer(x), ctypes.sizeof(x))"
   ]
  },
  {
   "cell_type": "code",
   "execution_count": 8,
   "id": "84a4537e",
   "metadata": {},
   "outputs": [],
   "source": [
    "def straight():\n",
    "    PressKey(W)\n",
    "    ReleaseKey(A)\n",
    "    ReleaseKey(D)\n",
    "\n",
    "def left():\n",
    "    PressKey(A)\n",
    "    ReleaseKey(W)\n",
    "    ReleaseKey(D)\n",
    "    ReleaseKey(A)\n",
    "\n",
    "def right():\n",
    "    PressKey(D)\n",
    "    ReleaseKey(A)\n",
    "    ReleaseKey(W)\n",
    "    ReleaseKey(D)\n",
    "\n",
    "def slow_ya_roll():\n",
    "    ReleaseKey(W)\n",
    "    ReleaseKey(A)\n",
    "    ReleaseKey(D)"
   ]
  },
  {
   "cell_type": "code",
   "execution_count": 9,
   "id": "1ad938fd",
   "metadata": {},
   "outputs": [],
   "source": [
    "def grab_screen(region=None):\n",
    "\n",
    "    hwin = win32gui.GetDesktopWindow()\n",
    "\n",
    "    if region:\n",
    "            left,top,x2,y2 = region\n",
    "            width = x2 - left + 1\n",
    "            height = y2 - top + 1\n",
    "    else:\n",
    "        width = win32api.GetSystemMetrics(win32con.SM_CXVIRTUALSCREEN)\n",
    "        height = win32api.GetSystemMetrics(win32con.SM_CYVIRTUALSCREEN)\n",
    "        left = win32api.GetSystemMetrics(win32con.SM_XVIRTUALSCREEN)\n",
    "        top = win32api.GetSystemMetrics(win32con.SM_YVIRTUALSCREEN)\n",
    "\n",
    "    hwindc = win32gui.GetWindowDC(hwin)\n",
    "    srcdc = win32ui.CreateDCFromHandle(hwindc)\n",
    "    memdc = srcdc.CreateCompatibleDC()\n",
    "    bmp = win32ui.CreateBitmap()\n",
    "    bmp.CreateCompatibleBitmap(srcdc, width, height)\n",
    "    memdc.SelectObject(bmp)\n",
    "    memdc.BitBlt((0, 0), (width, height), srcdc, (left, top), win32con.SRCCOPY)\n",
    "    \n",
    "    signedIntsArray = bmp.GetBitmapBits(True)\n",
    "    img = np.fromstring(signedIntsArray, dtype='uint8')\n",
    "    img.shape = (height,width,4)\n",
    "\n",
    "    srcdc.DeleteDC()\n",
    "    memdc.DeleteDC()\n",
    "    win32gui.ReleaseDC(hwin, hwindc)\n",
    "    win32gui.DeleteObject(bmp.GetHandle())\n",
    "\n",
    "    return cv2.cvtColor(img, cv2.COLOR_BGRA2RGB)"
   ]
  },
  {
   "cell_type": "code",
   "execution_count": 10,
   "id": "ebf7dd21",
   "metadata": {},
   "outputs": [],
   "source": [
    "import win32api as wapi\n",
    "import time\n",
    "\n",
    "keyList = [\"\\b\"]\n",
    "for char in \"ABCDEFGHIJKLMNOPQRSTUVWXYZ 123456789,.'APS$/\\\\\":\n",
    "    keyList.append(char)\n",
    "\n",
    "def key_check():\n",
    "    keys = []\n",
    "    for key in keyList:\n",
    "        if wapi.GetAsyncKeyState(ord(key)):\n",
    "            keys.append(key)\n",
    "    return keys"
   ]
  },
  {
   "cell_type": "code",
   "execution_count": 11,
   "id": "bf2ff9a5",
   "metadata": {},
   "outputs": [],
   "source": [
    "def keys_to_output(keys):\n",
    "    '''\n",
    "    Convert keys to a ...multi-hot... array\n",
    "\n",
    "    [A,W,D] boolean values.\n",
    "    '''\n",
    "    output = [0,0,0]\n",
    "    \n",
    "    if 'A' in keys:\n",
    "        output[0] = 1\n",
    "    elif 'D' in keys:\n",
    "        output[2] = 1\n",
    "    else:\n",
    "        output[1] = 1\n",
    "    return output"
   ]
  },
  {
   "cell_type": "code",
   "execution_count": 12,
   "id": "b3a72d60",
   "metadata": {},
   "outputs": [
    {
     "name": "stdout",
     "output_type": "stream",
     "text": [
      "File exists, loading previous data!\n"
     ]
    }
   ],
   "source": [
    "file_name = 'training_data.npy'\n",
    "\n",
    "if os.path.isfile(file_name):\n",
    "    print('File exists, loading previous data!')\n",
    "    training_data = list(np.load(file_name, allow_pickle=True))\n",
    "else:\n",
    "    print('File does not exist, starting fresh!')\n",
    "    training_data = []"
   ]
  },
  {
   "cell_type": "code",
   "execution_count": 13,
   "id": "5688fe8f",
   "metadata": {},
   "outputs": [],
   "source": [
    "def main():\n",
    "\n",
    "    for i in list(range(4))[::-1]:\n",
    "        print(i+1)\n",
    "        time.sleep(1)\n",
    "        \n",
    "    while(True):\n",
    "        # 800x600 windowed mode\n",
    "        screen = grab_screen(region=(0,40,800,640))\n",
    "        last_time = time.time()\n",
    "        screen = cv2.cvtColor(screen, cv2.COLOR_BGR2GRAY)\n",
    "        # resize to something a bit more acceptable for a CNN\n",
    "        screen = cv2.resize(screen, (80,60))\n",
    "        keys = key_check()\n",
    "        output = keys_to_output(keys)\n",
    "        training_data.append([screen,output])\n",
    "        \n",
    "        if cv2.waitKey(25) & 0xFF == ord('q'):\n",
    "            cv2.destroyAllWindows()\n",
    "            break\n",
    "\n",
    "        if len(training_data) % 500 == 0:\n",
    "            print(len(training_data))\n",
    "            np.save(file_name,training_data)"
   ]
  },
  {
   "cell_type": "code",
   "execution_count": 14,
   "id": "3dcc8741",
   "metadata": {},
   "outputs": [],
   "source": [
    "# main()"
   ]
  },
  {
   "cell_type": "markdown",
   "id": "701d61e5",
   "metadata": {},
   "source": [
    "---------------"
   ]
  },
  {
   "cell_type": "markdown",
   "id": "30ef2808",
   "metadata": {},
   "source": [
    "## Data Management"
   ]
  },
  {
   "cell_type": "code",
   "execution_count": 15,
   "id": "6df96085",
   "metadata": {},
   "outputs": [
    {
     "name": "stdout",
     "output_type": "stream",
     "text": [
      "                                                   0          1\n",
      "0  [[237, 236, 235, 234, 233, 232, 230, 228, 226,...  [0, 1, 0]\n",
      "1  [[237, 236, 235, 234, 233, 232, 230, 228, 227,...  [0, 1, 0]\n",
      "2  [[237, 236, 235, 234, 233, 232, 230, 228, 227,...  [0, 1, 0]\n",
      "3  [[237, 236, 235, 234, 233, 232, 230, 228, 227,...  [0, 1, 0]\n",
      "4  [[237, 236, 235, 234, 232, 232, 230, 228, 227,...  [0, 1, 0]\n",
      "Counter({'[0, 1, 0]': 57259, '[0, 0, 1]': 12336, '[1, 0, 0]': 7905})\n"
     ]
    }
   ],
   "source": [
    "train_data = np.load('training_data.npy', allow_pickle=True)\n",
    "\n",
    "df = pd.DataFrame(train_data)\n",
    "print(df.head())\n",
    "print(Counter(df[1].apply(str)))"
   ]
  },
  {
   "cell_type": "code",
   "execution_count": 16,
   "id": "2e8ccb73",
   "metadata": {},
   "outputs": [
    {
     "name": "stderr",
     "output_type": "stream",
     "text": [
      "C:\\Users\\Alvaro\\miniconda3\\envs\\prostate\\lib\\site-packages\\numpy\\core\\_asarray.py:136: VisibleDeprecationWarning: Creating an ndarray from ragged nested sequences (which is a list-or-tuple of lists-or-tuples-or ndarrays with different lengths or shapes) is deprecated. If you meant to do this, you must specify 'dtype=object' when creating the ndarray\n",
      "  return array(a, dtype, copy=False, order=order, subok=True)\n"
     ]
    }
   ],
   "source": [
    "lefts = []\n",
    "rights = []\n",
    "forwards = []\n",
    "\n",
    "shuffle(train_data)\n",
    "\n",
    "for data in train_data:\n",
    "    img = data[0]\n",
    "    choice = data[1]\n",
    "\n",
    "    if choice == [1,0,0]:\n",
    "        lefts.append([img,choice])\n",
    "    elif choice == [0,1,0]:\n",
    "        forwards.append([img,choice])\n",
    "    elif choice == [0,0,1]:\n",
    "        rights.append([img,choice])\n",
    "    else:\n",
    "        print('no matches')\n",
    "\n",
    "forwards = forwards[:len(lefts)]\n",
    "lefts = lefts[:len(forwards)]\n",
    "rights = rights[:len(lefts)]\n",
    "\n",
    "\n",
    "\n",
    "final_data = forwards + lefts + rights\n",
    "shuffle(final_data)\n",
    "\n",
    "np.save('training_data_v2.npy', final_data)"
   ]
  },
  {
   "cell_type": "code",
   "execution_count": 50,
   "id": "2a26ee9e",
   "metadata": {},
   "outputs": [
    {
     "name": "stdout",
     "output_type": "stream",
     "text": [
      "                                                   0          1\n",
      "0  [[161, 160, 159, 159, 159, 158, 157, 157, 157,...  [1, 0, 0]\n",
      "1  [[252, 252, 251, 251, 251, 250, 250, 249, 248,...  [0, 0, 1]\n",
      "2  [[178, 177, 177, 177, 176, 176, 175, 174, 174,...  [0, 0, 1]\n",
      "3  [[177, 176, 176, 175, 175, 175, 174, 174, 173,...  [0, 0, 1]\n",
      "4  [[177, 177, 176, 176, 175, 175, 175, 174, 174,...  [0, 0, 1]\n",
      "Counter({'[1, 0, 0]': 8459, '[0, 0, 1]': 8459, '[0, 1, 0]': 8459})\n"
     ]
    }
   ],
   "source": [
    "train_data_v2 = np.load('training_data_v2.npy', allow_pickle=True)\n",
    "\n",
    "df_2 = pd.DataFrame(train_data_v2)\n",
    "print(df_2.head())\n",
    "print(Counter(df_2[1].apply(str)))"
   ]
  },
  {
   "cell_type": "code",
   "execution_count": 51,
   "id": "f0647360",
   "metadata": {},
   "outputs": [],
   "source": [
    "def array_to_img(array, name):\n",
    "    data = im.fromarray(array)\n",
    "    save_dir = \"images/\"\n",
    "    data.save(save_dir + f'{name}.png')"
   ]
  },
  {
   "cell_type": "code",
   "execution_count": 52,
   "id": "ff0bac86",
   "metadata": {},
   "outputs": [],
   "source": [
    "#No need to do it everytime, just if the images are not created from the numpy\n",
    "# df_3 = df_2[0]\n",
    "\n",
    "# for i in range(len(df_3)):\n",
    "#     name = i\n",
    "#     array_to_img(df_3[i], name)"
   ]
  },
  {
   "cell_type": "code",
   "execution_count": 53,
   "id": "e13ddb48",
   "metadata": {},
   "outputs": [
    {
     "data": {
      "text/html": [
       "<div>\n",
       "<style scoped>\n",
       "    .dataframe tbody tr th:only-of-type {\n",
       "        vertical-align: middle;\n",
       "    }\n",
       "\n",
       "    .dataframe tbody tr th {\n",
       "        vertical-align: top;\n",
       "    }\n",
       "\n",
       "    .dataframe thead th {\n",
       "        text-align: right;\n",
       "    }\n",
       "</style>\n",
       "<table border=\"1\" class=\"dataframe\">\n",
       "  <thead>\n",
       "    <tr style=\"text-align: right;\">\n",
       "      <th></th>\n",
       "      <th>1</th>\n",
       "    </tr>\n",
       "  </thead>\n",
       "  <tbody>\n",
       "    <tr>\n",
       "      <th>0</th>\n",
       "      <td>[1, 0, 0]</td>\n",
       "    </tr>\n",
       "    <tr>\n",
       "      <th>1</th>\n",
       "      <td>[0, 0, 1]</td>\n",
       "    </tr>\n",
       "    <tr>\n",
       "      <th>2</th>\n",
       "      <td>[0, 0, 1]</td>\n",
       "    </tr>\n",
       "    <tr>\n",
       "      <th>3</th>\n",
       "      <td>[0, 0, 1]</td>\n",
       "    </tr>\n",
       "    <tr>\n",
       "      <th>4</th>\n",
       "      <td>[0, 0, 1]</td>\n",
       "    </tr>\n",
       "  </tbody>\n",
       "</table>\n",
       "</div>"
      ],
      "text/plain": [
       "           1\n",
       "0  [1, 0, 0]\n",
       "1  [0, 0, 1]\n",
       "2  [0, 0, 1]\n",
       "3  [0, 0, 1]\n",
       "4  [0, 0, 1]"
      ]
     },
     "execution_count": 53,
     "metadata": {},
     "output_type": "execute_result"
    }
   ],
   "source": [
    "cleaning_df = pd.DataFrame(df_2[[1]])\n",
    "cleaning_df.head()"
   ]
  },
  {
   "cell_type": "code",
   "execution_count": 54,
   "id": "c262e4ba",
   "metadata": {},
   "outputs": [
    {
     "data": {
      "text/html": [
       "<div>\n",
       "<style scoped>\n",
       "    .dataframe tbody tr th:only-of-type {\n",
       "        vertical-align: middle;\n",
       "    }\n",
       "\n",
       "    .dataframe tbody tr th {\n",
       "        vertical-align: top;\n",
       "    }\n",
       "\n",
       "    .dataframe thead th {\n",
       "        text-align: right;\n",
       "    }\n",
       "</style>\n",
       "<table border=\"1\" class=\"dataframe\">\n",
       "  <thead>\n",
       "    <tr style=\"text-align: right;\">\n",
       "      <th></th>\n",
       "      <th>1</th>\n",
       "      <th>name</th>\n",
       "      <th>result</th>\n",
       "    </tr>\n",
       "  </thead>\n",
       "  <tbody>\n",
       "    <tr>\n",
       "      <th>0</th>\n",
       "      <td>[1, 0, 0]</td>\n",
       "      <td>0</td>\n",
       "      <td>[1, 0, 0]</td>\n",
       "    </tr>\n",
       "    <tr>\n",
       "      <th>1</th>\n",
       "      <td>[0, 0, 1]</td>\n",
       "      <td>1</td>\n",
       "      <td>[0, 0, 1]</td>\n",
       "    </tr>\n",
       "    <tr>\n",
       "      <th>2</th>\n",
       "      <td>[0, 0, 1]</td>\n",
       "      <td>2</td>\n",
       "      <td>[0, 0, 1]</td>\n",
       "    </tr>\n",
       "    <tr>\n",
       "      <th>3</th>\n",
       "      <td>[0, 0, 1]</td>\n",
       "      <td>3</td>\n",
       "      <td>[0, 0, 1]</td>\n",
       "    </tr>\n",
       "    <tr>\n",
       "      <th>4</th>\n",
       "      <td>[0, 0, 1]</td>\n",
       "      <td>4</td>\n",
       "      <td>[0, 0, 1]</td>\n",
       "    </tr>\n",
       "  </tbody>\n",
       "</table>\n",
       "</div>"
      ],
      "text/plain": [
       "           1 name     result\n",
       "0  [1, 0, 0]    0  [1, 0, 0]\n",
       "1  [0, 0, 1]    1  [0, 0, 1]\n",
       "2  [0, 0, 1]    2  [0, 0, 1]\n",
       "3  [0, 0, 1]    3  [0, 0, 1]\n",
       "4  [0, 0, 1]    4  [0, 0, 1]"
      ]
     },
     "execution_count": 54,
     "metadata": {},
     "output_type": "execute_result"
    }
   ],
   "source": [
    "cleaning_df['name'] = np.arange(cleaning_df.shape[0])\n",
    "\n",
    "cleaning_df['name'] = cleaning_df['name'].apply(str)\n",
    "\n",
    "cleaning_df['result'] = cleaning_df[1]\n",
    "\n",
    "cleaning_df.head()"
   ]
  },
  {
   "cell_type": "code",
   "execution_count": 55,
   "id": "ad68860f",
   "metadata": {},
   "outputs": [
    {
     "data": {
      "text/html": [
       "<div>\n",
       "<style scoped>\n",
       "    .dataframe tbody tr th:only-of-type {\n",
       "        vertical-align: middle;\n",
       "    }\n",
       "\n",
       "    .dataframe tbody tr th {\n",
       "        vertical-align: top;\n",
       "    }\n",
       "\n",
       "    .dataframe thead th {\n",
       "        text-align: right;\n",
       "    }\n",
       "</style>\n",
       "<table border=\"1\" class=\"dataframe\">\n",
       "  <thead>\n",
       "    <tr style=\"text-align: right;\">\n",
       "      <th></th>\n",
       "      <th>1</th>\n",
       "      <th>name</th>\n",
       "      <th>result</th>\n",
       "    </tr>\n",
       "  </thead>\n",
       "  <tbody>\n",
       "    <tr>\n",
       "      <th>0</th>\n",
       "      <td>[1, 0, 0]</td>\n",
       "      <td>0</td>\n",
       "      <td>0</td>\n",
       "    </tr>\n",
       "    <tr>\n",
       "      <th>1</th>\n",
       "      <td>[0, 0, 1]</td>\n",
       "      <td>1</td>\n",
       "      <td>2</td>\n",
       "    </tr>\n",
       "    <tr>\n",
       "      <th>2</th>\n",
       "      <td>[0, 0, 1]</td>\n",
       "      <td>2</td>\n",
       "      <td>2</td>\n",
       "    </tr>\n",
       "    <tr>\n",
       "      <th>3</th>\n",
       "      <td>[0, 0, 1]</td>\n",
       "      <td>3</td>\n",
       "      <td>2</td>\n",
       "    </tr>\n",
       "    <tr>\n",
       "      <th>4</th>\n",
       "      <td>[0, 0, 1]</td>\n",
       "      <td>4</td>\n",
       "      <td>2</td>\n",
       "    </tr>\n",
       "  </tbody>\n",
       "</table>\n",
       "</div>"
      ],
      "text/plain": [
       "           1 name  result\n",
       "0  [1, 0, 0]    0       0\n",
       "1  [0, 0, 1]    1       2\n",
       "2  [0, 0, 1]    2       2\n",
       "3  [0, 0, 1]    3       2\n",
       "4  [0, 0, 1]    4       2"
      ]
     },
     "execution_count": 55,
     "metadata": {},
     "output_type": "execute_result"
    }
   ],
   "source": [
    "def find_1(value):\n",
    "    result = 0\n",
    "    if value == [0,0,1]:\n",
    "        result = '2'\n",
    "    elif value == [0,1,0]:\n",
    "        result = '1'\n",
    "    else:\n",
    "        result = '0'\n",
    "    return result\n",
    "\n",
    "\n",
    "cleaning_df['result'] = cleaning_df[1].apply(lambda x: find_1(x)).astype(int)\n",
    "cleaning_df.head()"
   ]
  },
  {
   "cell_type": "code",
   "execution_count": 56,
   "id": "64a9271e",
   "metadata": {},
   "outputs": [
    {
     "data": {
      "text/html": [
       "<div>\n",
       "<style scoped>\n",
       "    .dataframe tbody tr th:only-of-type {\n",
       "        vertical-align: middle;\n",
       "    }\n",
       "\n",
       "    .dataframe tbody tr th {\n",
       "        vertical-align: top;\n",
       "    }\n",
       "\n",
       "    .dataframe thead th {\n",
       "        text-align: right;\n",
       "    }\n",
       "</style>\n",
       "<table border=\"1\" class=\"dataframe\">\n",
       "  <thead>\n",
       "    <tr style=\"text-align: right;\">\n",
       "      <th></th>\n",
       "      <th>1</th>\n",
       "      <th>name</th>\n",
       "      <th>result</th>\n",
       "      <th>path</th>\n",
       "    </tr>\n",
       "  </thead>\n",
       "  <tbody>\n",
       "    <tr>\n",
       "      <th>0</th>\n",
       "      <td>[1, 0, 0]</td>\n",
       "      <td>0</td>\n",
       "      <td>0</td>\n",
       "      <td>0.png</td>\n",
       "    </tr>\n",
       "    <tr>\n",
       "      <th>1</th>\n",
       "      <td>[0, 0, 1]</td>\n",
       "      <td>1</td>\n",
       "      <td>2</td>\n",
       "      <td>1.png</td>\n",
       "    </tr>\n",
       "    <tr>\n",
       "      <th>2</th>\n",
       "      <td>[0, 0, 1]</td>\n",
       "      <td>2</td>\n",
       "      <td>2</td>\n",
       "      <td>2.png</td>\n",
       "    </tr>\n",
       "    <tr>\n",
       "      <th>3</th>\n",
       "      <td>[0, 0, 1]</td>\n",
       "      <td>3</td>\n",
       "      <td>2</td>\n",
       "      <td>3.png</td>\n",
       "    </tr>\n",
       "    <tr>\n",
       "      <th>4</th>\n",
       "      <td>[0, 0, 1]</td>\n",
       "      <td>4</td>\n",
       "      <td>2</td>\n",
       "      <td>4.png</td>\n",
       "    </tr>\n",
       "  </tbody>\n",
       "</table>\n",
       "</div>"
      ],
      "text/plain": [
       "           1 name  result   path\n",
       "0  [1, 0, 0]    0       0  0.png\n",
       "1  [0, 0, 1]    1       2  1.png\n",
       "2  [0, 0, 1]    2       2  2.png\n",
       "3  [0, 0, 1]    3       2  3.png\n",
       "4  [0, 0, 1]    4       2  4.png"
      ]
     },
     "execution_count": 56,
     "metadata": {},
     "output_type": "execute_result"
    }
   ],
   "source": [
    "cleaning_df['path'] = cleaning_df['name'] + '.png'\n",
    "cleaning_df.head()"
   ]
  },
  {
   "cell_type": "code",
   "execution_count": 57,
   "id": "adcc035b",
   "metadata": {},
   "outputs": [
    {
     "data": {
      "text/html": [
       "<div>\n",
       "<style scoped>\n",
       "    .dataframe tbody tr th:only-of-type {\n",
       "        vertical-align: middle;\n",
       "    }\n",
       "\n",
       "    .dataframe tbody tr th {\n",
       "        vertical-align: top;\n",
       "    }\n",
       "\n",
       "    .dataframe thead th {\n",
       "        text-align: right;\n",
       "    }\n",
       "</style>\n",
       "<table border=\"1\" class=\"dataframe\">\n",
       "  <thead>\n",
       "    <tr style=\"text-align: right;\">\n",
       "      <th></th>\n",
       "      <th>path</th>\n",
       "      <th>result</th>\n",
       "    </tr>\n",
       "  </thead>\n",
       "  <tbody>\n",
       "    <tr>\n",
       "      <th>0</th>\n",
       "      <td>0.png</td>\n",
       "      <td>0</td>\n",
       "    </tr>\n",
       "    <tr>\n",
       "      <th>1</th>\n",
       "      <td>1.png</td>\n",
       "      <td>2</td>\n",
       "    </tr>\n",
       "    <tr>\n",
       "      <th>2</th>\n",
       "      <td>2.png</td>\n",
       "      <td>2</td>\n",
       "    </tr>\n",
       "    <tr>\n",
       "      <th>3</th>\n",
       "      <td>3.png</td>\n",
       "      <td>2</td>\n",
       "    </tr>\n",
       "    <tr>\n",
       "      <th>4</th>\n",
       "      <td>4.png</td>\n",
       "      <td>2</td>\n",
       "    </tr>\n",
       "  </tbody>\n",
       "</table>\n",
       "</div>"
      ],
      "text/plain": [
       "    path  result\n",
       "0  0.png       0\n",
       "1  1.png       2\n",
       "2  2.png       2\n",
       "3  3.png       2\n",
       "4  4.png       2"
      ]
     },
     "execution_count": 57,
     "metadata": {},
     "output_type": "execute_result"
    }
   ],
   "source": [
    "train_df = pd.DataFrame(cleaning_df[['path', 'result']])\n",
    "\n",
    "train_df.head()"
   ]
  },
  {
   "cell_type": "code",
   "execution_count": 58,
   "id": "e2959dfb",
   "metadata": {},
   "outputs": [
    {
     "name": "stdout",
     "output_type": "stream",
     "text": [
      "<class 'pandas.core.frame.DataFrame'>\n",
      "RangeIndex: 25377 entries, 0 to 25376\n",
      "Data columns (total 2 columns):\n",
      " #   Column  Non-Null Count  Dtype \n",
      "---  ------  --------------  ----- \n",
      " 0   path    25377 non-null  object\n",
      " 1   result  25377 non-null  int32 \n",
      "dtypes: int32(1), object(1)\n",
      "memory usage: 297.5+ KB\n"
     ]
    }
   ],
   "source": [
    "train_df.info()"
   ]
  },
  {
   "cell_type": "markdown",
   "id": "82303887",
   "metadata": {},
   "source": [
    "------"
   ]
  },
  {
   "cell_type": "markdown",
   "id": "73a83bff",
   "metadata": {},
   "source": [
    "## Image Treatment"
   ]
  },
  {
   "cell_type": "code",
   "execution_count": 59,
   "id": "cc59533e",
   "metadata": {},
   "outputs": [],
   "source": [
    "datagen = ImageDataGenerator(rescale=1./255.,\n",
    "                             validation_split=0.20,\n",
    "                             rotation_range=10, # rotation\n",
    "                             width_shift_range=0.2, # horizontal shift\n",
    "                             height_shift_range=0.2, # vertical shift\n",
    "                             zoom_range=0.2, # zoom\n",
    "                             horizontal_flip=True, # horizontal flip\n",
    "                             brightness_range=[0.2,1.2]) # brightness)"
   ]
  },
  {
   "cell_type": "code",
   "execution_count": 60,
   "id": "a5d3f297",
   "metadata": {},
   "outputs": [
    {
     "name": "stdout",
     "output_type": "stream",
     "text": [
      "Found 20302 validated image filenames.\n",
      "Found 5075 validated image filenames.\n"
     ]
    }
   ],
   "source": [
    "save_dir = \"images/\"\n",
    "\n",
    "train_generator  = datagen.flow_from_dataframe(\n",
    "    dataframe=train_df,\n",
    "    directory=save_dir,\n",
    "    x_col=\"path\",\n",
    "    y_col=\"result\",\n",
    "    target_size=(80, 60),\n",
    "    color_mode=\"grayscale\",\n",
    "    batch_size=64,\n",
    "    save_to_dir='png_images_resized/',\n",
    "    save_format=\"png\",\n",
    "    class_mode=\"raw\",\n",
    "    subset='training',\n",
    "    shuffle = True\n",
    ")\n",
    "\n",
    "\n",
    "validation_generator  = datagen.flow_from_dataframe(\n",
    "    dataframe=train_df,\n",
    "    directory=save_dir,\n",
    "    x_col=\"path\",\n",
    "    y_col=\"result\",\n",
    "    target_size=(80, 60),\n",
    "    color_mode=\"grayscale\",\n",
    "    batch_size=64, \n",
    "    save_to_dir='png_images_resized/',\n",
    "    save_format=\"png\",\n",
    "    class_mode=\"raw\",\n",
    "    subset='validation',\n",
    "    shuffle = True\n",
    ")"
   ]
  },
  {
   "cell_type": "markdown",
   "id": "ff8d2f3b",
   "metadata": {},
   "source": [
    "---------"
   ]
  },
  {
   "cell_type": "markdown",
   "id": "ace31885",
   "metadata": {},
   "source": [
    "## Modeling"
   ]
  },
  {
   "cell_type": "code",
   "execution_count": 61,
   "id": "76bdf186",
   "metadata": {},
   "outputs": [
    {
     "name": "stdout",
     "output_type": "stream",
     "text": [
      "Version:  2.4.0\n",
      "Eager mode:  True\n",
      "GPU is available\n"
     ]
    }
   ],
   "source": [
    "import tensorflow as tf\n",
    "from tensorflow import keras\n",
    "from tensorflow.keras.layers import Dense\n",
    "\n",
    "print(\"Version: \", tf.__version__)\n",
    "print(\"Eager mode: \", tf.executing_eagerly())\n",
    "print(\"GPU is\", \"available\" if tf.config.list_physical_devices(\"GPU\") else \"NOT AVAILABLE\")"
   ]
  },
  {
   "cell_type": "code",
   "execution_count": 62,
   "id": "0862901c",
   "metadata": {},
   "outputs": [],
   "source": [
    "callback = tf.keras.callbacks.EarlyStopping(monitor='accuracy', patience=4)"
   ]
  },
  {
   "cell_type": "code",
   "execution_count": 63,
   "id": "575ceb05",
   "metadata": {
    "jupyter": {
     "source_hidden": true
    },
    "tags": []
   },
   "outputs": [],
   "source": [
    "# model = tf.keras.Sequential()\n",
    "\n",
    "\n",
    "# model.add(tf.keras.layers.Conv2D(16, (3,3), activation='relu', input_shape=(80, 60, 1)))\n",
    "# model.add(tf.keras.layers.MaxPooling2D(pool_size=(2, 2)))\n",
    "\n",
    "# model.add(tf.keras.layers.Conv2D(32, (3,3), activation='relu'))\n",
    "# model.add(tf.keras.layers.MaxPooling2D(pool_size=(2, 2)))\n",
    "\n",
    "# model.add(tf.keras.layers.Dropout(0.2))\n",
    "\n",
    "# model.add(tf.keras.layers.Conv2D(64, (3,3), activation='relu'))\n",
    "# model.add(tf.keras.layers.MaxPooling2D(pool_size=(2, 2)))\n",
    "\n",
    "# model.add(tf.keras.layers.Dropout(0.2))\n",
    "\n",
    "# model.add(tf.keras.layers.Flatten())\n",
    "\n",
    "# model.add(tf.keras.layers.Dense(64, activation=\"relu\"))\n",
    "\n",
    "# model.add(tf.keras.layers.Dropout(0.2))\n",
    "\n",
    "# model.add(tf.keras.layers.Dense(32, activation=\"relu\"))\n",
    "\n",
    "# model.add(tf.keras.layers.Dropout(0.2))\n",
    "\n",
    "# model.add(tf.keras.layers.Dense(16, activation=\"relu\"))\n",
    "\n",
    "# model.add(tf.keras.layers.Dropout(0.2))\n",
    "\n",
    "# model.add(tf.keras.layers.Dense(1, activation=\"sigmoid\"))"
   ]
  },
  {
   "cell_type": "code",
   "execution_count": 68,
   "id": "a4a6e665",
   "metadata": {
    "tags": []
   },
   "outputs": [],
   "source": [
    "model = tf.keras.Sequential()\n",
    "model.add(tf.keras.layers.Conv2D(16,(3,3),input_shape=(80,60,1)))\n",
    "model.add(tf.keras.layers.Activation('relu'))\n",
    "model.add(tf.keras.layers.BatchNormalization())\n",
    "model.add(tf.keras.layers.MaxPooling2D(pool_size =(2,2)))\n",
    "model.add(tf.keras.layers.Conv2D(32,(3,3)))\n",
    "model.add(tf.keras.layers.Activation('relu'))\n",
    "model.add(tf.keras.layers.BatchNormalization())\n",
    "model.add(tf.keras.layers.MaxPooling2D(pool_size =(2,2)))\n",
    "model.add(tf.keras.layers.Conv2D(64,(3,3)))\n",
    "model.add(tf.keras.layers.Activation('relu'))\n",
    "model.add(tf.keras.layers.BatchNormalization())\n",
    "model.add(tf.keras.layers.MaxPooling2D(pool_size =(2,2)))\n",
    "model.add(tf.keras.layers.Conv2D(128,(3,3)))\n",
    "model.add(tf.keras.layers.Activation('relu'))\n",
    "model.add(tf.keras.layers.BatchNormalization())\n",
    "model.add(tf.keras.layers.MaxPooling2D(pool_size =(2,2)))\n",
    "model.add(tf.keras.layers.Flatten())\n",
    "model.add(tf.keras.layers.Dense(128))\n",
    "model.add(tf.keras.layers.Activation('relu'))\n",
    "model.add(tf.keras.layers.Dropout(0.5))\n",
    "model.add(tf.keras.layers.Dense(64))\n",
    "model.add(tf.keras.layers.Activation('relu'))\n",
    "model.add(tf.keras.layers.Dropout(0.5))\n",
    "model.add(tf.keras.layers.Dense(32))\n",
    "model.add(tf.keras.layers.Activation('relu'))\n",
    "model.add(tf.keras.layers.Dropout(0.5))\n",
    "model.add(tf.keras.layers.Dense(1))\n",
    "model.add(tf.keras.layers.Activation('softmax'))\n"
   ]
  },
  {
   "cell_type": "code",
   "execution_count": 75,
   "id": "9829e643",
   "metadata": {},
   "outputs": [],
   "source": [
    "# opt = keras.optimizers.Adam(learning_rate=1e-3)\n",
    "# model.compile(loss='categorical_crossentropy', optimizer=opt, metrics=['accuracy'])\n",
    "\n",
    "model.compile(optimizer='adam', \n",
    "              loss=\"categorical_crossentropy\", \n",
    "              metrics=['accuracy'])"
   ]
  },
  {
   "cell_type": "code",
   "execution_count": 76,
   "id": "dd6dcb95",
   "metadata": {},
   "outputs": [
    {
     "name": "stdout",
     "output_type": "stream",
     "text": [
      "Model: \"sequential_2\"\n",
      "_________________________________________________________________\n",
      "Layer (type)                 Output Shape              Param #   \n",
      "=================================================================\n",
      "conv2d_8 (Conv2D)            (None, 78, 58, 16)        160       \n",
      "_________________________________________________________________\n",
      "activation_16 (Activation)   (None, 78, 58, 16)        0         \n",
      "_________________________________________________________________\n",
      "batch_normalization_8 (Batch (None, 78, 58, 16)        64        \n",
      "_________________________________________________________________\n",
      "max_pooling2d_8 (MaxPooling2 (None, 39, 29, 16)        0         \n",
      "_________________________________________________________________\n",
      "conv2d_9 (Conv2D)            (None, 37, 27, 32)        4640      \n",
      "_________________________________________________________________\n",
      "activation_17 (Activation)   (None, 37, 27, 32)        0         \n",
      "_________________________________________________________________\n",
      "batch_normalization_9 (Batch (None, 37, 27, 32)        128       \n",
      "_________________________________________________________________\n",
      "max_pooling2d_9 (MaxPooling2 (None, 18, 13, 32)        0         \n",
      "_________________________________________________________________\n",
      "conv2d_10 (Conv2D)           (None, 16, 11, 64)        18496     \n",
      "_________________________________________________________________\n",
      "activation_18 (Activation)   (None, 16, 11, 64)        0         \n",
      "_________________________________________________________________\n",
      "batch_normalization_10 (Batc (None, 16, 11, 64)        256       \n",
      "_________________________________________________________________\n",
      "max_pooling2d_10 (MaxPooling (None, 8, 5, 64)          0         \n",
      "_________________________________________________________________\n",
      "conv2d_11 (Conv2D)           (None, 6, 3, 128)         73856     \n",
      "_________________________________________________________________\n",
      "activation_19 (Activation)   (None, 6, 3, 128)         0         \n",
      "_________________________________________________________________\n",
      "batch_normalization_11 (Batc (None, 6, 3, 128)         512       \n",
      "_________________________________________________________________\n",
      "max_pooling2d_11 (MaxPooling (None, 3, 1, 128)         0         \n",
      "_________________________________________________________________\n",
      "flatten_2 (Flatten)          (None, 384)               0         \n",
      "_________________________________________________________________\n",
      "dense_8 (Dense)              (None, 128)               49280     \n",
      "_________________________________________________________________\n",
      "activation_20 (Activation)   (None, 128)               0         \n",
      "_________________________________________________________________\n",
      "dropout_6 (Dropout)          (None, 128)               0         \n",
      "_________________________________________________________________\n",
      "dense_9 (Dense)              (None, 64)                8256      \n",
      "_________________________________________________________________\n",
      "activation_21 (Activation)   (None, 64)                0         \n",
      "_________________________________________________________________\n",
      "dropout_7 (Dropout)          (None, 64)                0         \n",
      "_________________________________________________________________\n",
      "dense_10 (Dense)             (None, 32)                2080      \n",
      "_________________________________________________________________\n",
      "activation_22 (Activation)   (None, 32)                0         \n",
      "_________________________________________________________________\n",
      "dropout_8 (Dropout)          (None, 32)                0         \n",
      "_________________________________________________________________\n",
      "dense_11 (Dense)             (None, 1)                 33        \n",
      "_________________________________________________________________\n",
      "activation_23 (Activation)   (None, 1)                 0         \n",
      "=================================================================\n",
      "Total params: 157,761\n",
      "Trainable params: 157,281\n",
      "Non-trainable params: 480\n",
      "_________________________________________________________________\n"
     ]
    }
   ],
   "source": [
    "model.summary()"
   ]
  },
  {
   "cell_type": "markdown",
   "id": "3e448fdc",
   "metadata": {},
   "source": [
    "--------"
   ]
  },
  {
   "cell_type": "markdown",
   "id": "fa4d11ca",
   "metadata": {},
   "source": [
    "## Model Training"
   ]
  },
  {
   "cell_type": "code",
   "execution_count": 77,
   "id": "c85aab47",
   "metadata": {},
   "outputs": [
    {
     "name": "stdout",
     "output_type": "stream",
     "text": [
      "Epoch 1/8\n",
      "318/318 [==============================] - 62s 193ms/step - loss: 0.0000e+00 - accuracy: 0.3351 - val_loss: 0.0000e+00 - val_accuracy: 0.3304\n",
      "Epoch 2/8\n",
      "318/318 [==============================] - 61s 192ms/step - loss: 0.0000e+00 - accuracy: 0.3363 - val_loss: 0.0000e+00 - val_accuracy: 0.3304\n",
      "Epoch 3/8\n",
      "318/318 [==============================] - 61s 193ms/step - loss: 0.0000e+00 - accuracy: 0.3410 - val_loss: 0.0000e+00 - val_accuracy: 0.3304\n",
      "Epoch 4/8\n",
      "318/318 [==============================] - ETA: 0s - loss: 0.0000e+00 - accuracy: 0.3350"
     ]
    },
    {
     "ename": "KeyboardInterrupt",
     "evalue": "",
     "output_type": "error",
     "traceback": [
      "\u001b[1;31m---------------------------------------------------------------------------\u001b[0m",
      "\u001b[1;31mKeyboardInterrupt\u001b[0m                         Traceback (most recent call last)",
      "\u001b[1;32m<ipython-input-77-129fa2784344>\u001b[0m in \u001b[0;36m<module>\u001b[1;34m\u001b[0m\n\u001b[1;32m----> 1\u001b[1;33m history = model.fit(\n\u001b[0m\u001b[0;32m      2\u001b[0m     \u001b[0mtrain_generator\u001b[0m\u001b[1;33m,\u001b[0m\u001b[1;33m\u001b[0m\u001b[1;33m\u001b[0m\u001b[0m\n\u001b[0;32m      3\u001b[0m     \u001b[0mvalidation_data\u001b[0m \u001b[1;33m=\u001b[0m \u001b[0mvalidation_generator\u001b[0m\u001b[1;33m,\u001b[0m\u001b[1;33m\u001b[0m\u001b[1;33m\u001b[0m\u001b[0m\n\u001b[0;32m      4\u001b[0m     \u001b[0mbatch_size\u001b[0m\u001b[1;33m=\u001b[0m\u001b[1;36m32\u001b[0m\u001b[1;33m,\u001b[0m\u001b[1;33m\u001b[0m\u001b[1;33m\u001b[0m\u001b[0m\n\u001b[0;32m      5\u001b[0m     \u001b[0mepochs\u001b[0m \u001b[1;33m=\u001b[0m \u001b[1;36m8\u001b[0m\u001b[1;33m,\u001b[0m\u001b[1;33m\u001b[0m\u001b[1;33m\u001b[0m\u001b[0m\n",
      "\u001b[1;32m~\\AppData\\Roaming\\Python\\Python38\\site-packages\\tensorflow\\python\\keras\\engine\\training.py\u001b[0m in \u001b[0;36mfit\u001b[1;34m(self, x, y, batch_size, epochs, verbose, callbacks, validation_split, validation_data, shuffle, class_weight, sample_weight, initial_epoch, steps_per_epoch, validation_steps, validation_batch_size, validation_freq, max_queue_size, workers, use_multiprocessing)\u001b[0m\n\u001b[0;32m   1129\u001b[0m                 \u001b[0mmodel\u001b[0m\u001b[1;33m=\u001b[0m\u001b[0mself\u001b[0m\u001b[1;33m,\u001b[0m\u001b[1;33m\u001b[0m\u001b[1;33m\u001b[0m\u001b[0m\n\u001b[0;32m   1130\u001b[0m                 steps_per_execution=self._steps_per_execution)\n\u001b[1;32m-> 1131\u001b[1;33m           val_logs = self.evaluate(\n\u001b[0m\u001b[0;32m   1132\u001b[0m               \u001b[0mx\u001b[0m\u001b[1;33m=\u001b[0m\u001b[0mval_x\u001b[0m\u001b[1;33m,\u001b[0m\u001b[1;33m\u001b[0m\u001b[1;33m\u001b[0m\u001b[0m\n\u001b[0;32m   1133\u001b[0m               \u001b[0my\u001b[0m\u001b[1;33m=\u001b[0m\u001b[0mval_y\u001b[0m\u001b[1;33m,\u001b[0m\u001b[1;33m\u001b[0m\u001b[1;33m\u001b[0m\u001b[0m\n",
      "\u001b[1;32m~\\AppData\\Roaming\\Python\\Python38\\site-packages\\tensorflow\\python\\keras\\engine\\training.py\u001b[0m in \u001b[0;36mevaluate\u001b[1;34m(self, x, y, batch_size, verbose, sample_weight, steps, callbacks, max_queue_size, workers, use_multiprocessing, return_dict)\u001b[0m\n\u001b[0;32m   1387\u001b[0m             \u001b[1;32mwith\u001b[0m \u001b[0mtrace\u001b[0m\u001b[1;33m.\u001b[0m\u001b[0mTrace\u001b[0m\u001b[1;33m(\u001b[0m\u001b[1;34m'test'\u001b[0m\u001b[1;33m,\u001b[0m \u001b[0mstep_num\u001b[0m\u001b[1;33m=\u001b[0m\u001b[0mstep\u001b[0m\u001b[1;33m,\u001b[0m \u001b[0m_r\u001b[0m\u001b[1;33m=\u001b[0m\u001b[1;36m1\u001b[0m\u001b[1;33m)\u001b[0m\u001b[1;33m:\u001b[0m\u001b[1;33m\u001b[0m\u001b[1;33m\u001b[0m\u001b[0m\n\u001b[0;32m   1388\u001b[0m               \u001b[0mcallbacks\u001b[0m\u001b[1;33m.\u001b[0m\u001b[0mon_test_batch_begin\u001b[0m\u001b[1;33m(\u001b[0m\u001b[0mstep\u001b[0m\u001b[1;33m)\u001b[0m\u001b[1;33m\u001b[0m\u001b[1;33m\u001b[0m\u001b[0m\n\u001b[1;32m-> 1389\u001b[1;33m               \u001b[0mtmp_logs\u001b[0m \u001b[1;33m=\u001b[0m \u001b[0mself\u001b[0m\u001b[1;33m.\u001b[0m\u001b[0mtest_function\u001b[0m\u001b[1;33m(\u001b[0m\u001b[0miterator\u001b[0m\u001b[1;33m)\u001b[0m\u001b[1;33m\u001b[0m\u001b[1;33m\u001b[0m\u001b[0m\n\u001b[0m\u001b[0;32m   1390\u001b[0m               \u001b[1;32mif\u001b[0m \u001b[0mdata_handler\u001b[0m\u001b[1;33m.\u001b[0m\u001b[0mshould_sync\u001b[0m\u001b[1;33m:\u001b[0m\u001b[1;33m\u001b[0m\u001b[1;33m\u001b[0m\u001b[0m\n\u001b[0;32m   1391\u001b[0m                 \u001b[0mcontext\u001b[0m\u001b[1;33m.\u001b[0m\u001b[0masync_wait\u001b[0m\u001b[1;33m(\u001b[0m\u001b[1;33m)\u001b[0m\u001b[1;33m\u001b[0m\u001b[1;33m\u001b[0m\u001b[0m\n",
      "\u001b[1;32m~\\AppData\\Roaming\\Python\\Python38\\site-packages\\tensorflow\\python\\eager\\def_function.py\u001b[0m in \u001b[0;36m__call__\u001b[1;34m(self, *args, **kwds)\u001b[0m\n\u001b[0;32m    826\u001b[0m     \u001b[0mtracing_count\u001b[0m \u001b[1;33m=\u001b[0m \u001b[0mself\u001b[0m\u001b[1;33m.\u001b[0m\u001b[0mexperimental_get_tracing_count\u001b[0m\u001b[1;33m(\u001b[0m\u001b[1;33m)\u001b[0m\u001b[1;33m\u001b[0m\u001b[1;33m\u001b[0m\u001b[0m\n\u001b[0;32m    827\u001b[0m     \u001b[1;32mwith\u001b[0m \u001b[0mtrace\u001b[0m\u001b[1;33m.\u001b[0m\u001b[0mTrace\u001b[0m\u001b[1;33m(\u001b[0m\u001b[0mself\u001b[0m\u001b[1;33m.\u001b[0m\u001b[0m_name\u001b[0m\u001b[1;33m)\u001b[0m \u001b[1;32mas\u001b[0m \u001b[0mtm\u001b[0m\u001b[1;33m:\u001b[0m\u001b[1;33m\u001b[0m\u001b[1;33m\u001b[0m\u001b[0m\n\u001b[1;32m--> 828\u001b[1;33m       \u001b[0mresult\u001b[0m \u001b[1;33m=\u001b[0m \u001b[0mself\u001b[0m\u001b[1;33m.\u001b[0m\u001b[0m_call\u001b[0m\u001b[1;33m(\u001b[0m\u001b[1;33m*\u001b[0m\u001b[0margs\u001b[0m\u001b[1;33m,\u001b[0m \u001b[1;33m**\u001b[0m\u001b[0mkwds\u001b[0m\u001b[1;33m)\u001b[0m\u001b[1;33m\u001b[0m\u001b[1;33m\u001b[0m\u001b[0m\n\u001b[0m\u001b[0;32m    829\u001b[0m       \u001b[0mcompiler\u001b[0m \u001b[1;33m=\u001b[0m \u001b[1;34m\"xla\"\u001b[0m \u001b[1;32mif\u001b[0m \u001b[0mself\u001b[0m\u001b[1;33m.\u001b[0m\u001b[0m_experimental_compile\u001b[0m \u001b[1;32melse\u001b[0m \u001b[1;34m\"nonXla\"\u001b[0m\u001b[1;33m\u001b[0m\u001b[1;33m\u001b[0m\u001b[0m\n\u001b[0;32m    830\u001b[0m       \u001b[0mnew_tracing_count\u001b[0m \u001b[1;33m=\u001b[0m \u001b[0mself\u001b[0m\u001b[1;33m.\u001b[0m\u001b[0mexperimental_get_tracing_count\u001b[0m\u001b[1;33m(\u001b[0m\u001b[1;33m)\u001b[0m\u001b[1;33m\u001b[0m\u001b[1;33m\u001b[0m\u001b[0m\n",
      "\u001b[1;32m~\\AppData\\Roaming\\Python\\Python38\\site-packages\\tensorflow\\python\\eager\\def_function.py\u001b[0m in \u001b[0;36m_call\u001b[1;34m(self, *args, **kwds)\u001b[0m\n\u001b[0;32m    860\u001b[0m       \u001b[1;31m# In this case we have not created variables on the first call. So we can\u001b[0m\u001b[1;33m\u001b[0m\u001b[1;33m\u001b[0m\u001b[1;33m\u001b[0m\u001b[0m\n\u001b[0;32m    861\u001b[0m       \u001b[1;31m# run the first trace but we should fail if variables are created.\u001b[0m\u001b[1;33m\u001b[0m\u001b[1;33m\u001b[0m\u001b[1;33m\u001b[0m\u001b[0m\n\u001b[1;32m--> 862\u001b[1;33m       \u001b[0mresults\u001b[0m \u001b[1;33m=\u001b[0m \u001b[0mself\u001b[0m\u001b[1;33m.\u001b[0m\u001b[0m_stateful_fn\u001b[0m\u001b[1;33m(\u001b[0m\u001b[1;33m*\u001b[0m\u001b[0margs\u001b[0m\u001b[1;33m,\u001b[0m \u001b[1;33m**\u001b[0m\u001b[0mkwds\u001b[0m\u001b[1;33m)\u001b[0m\u001b[1;33m\u001b[0m\u001b[1;33m\u001b[0m\u001b[0m\n\u001b[0m\u001b[0;32m    863\u001b[0m       \u001b[1;32mif\u001b[0m \u001b[0mself\u001b[0m\u001b[1;33m.\u001b[0m\u001b[0m_created_variables\u001b[0m\u001b[1;33m:\u001b[0m\u001b[1;33m\u001b[0m\u001b[1;33m\u001b[0m\u001b[0m\n\u001b[0;32m    864\u001b[0m         raise ValueError(\"Creating variables on a non-first call to a function\"\n",
      "\u001b[1;32m~\\AppData\\Roaming\\Python\\Python38\\site-packages\\tensorflow\\python\\eager\\function.py\u001b[0m in \u001b[0;36m__call__\u001b[1;34m(self, *args, **kwargs)\u001b[0m\n\u001b[0;32m   2940\u001b[0m       (graph_function,\n\u001b[0;32m   2941\u001b[0m        filtered_flat_args) = self._maybe_define_function(args, kwargs)\n\u001b[1;32m-> 2942\u001b[1;33m     return graph_function._call_flat(\n\u001b[0m\u001b[0;32m   2943\u001b[0m         filtered_flat_args, captured_inputs=graph_function.captured_inputs)  # pylint: disable=protected-access\n\u001b[0;32m   2944\u001b[0m \u001b[1;33m\u001b[0m\u001b[0m\n",
      "\u001b[1;32m~\\AppData\\Roaming\\Python\\Python38\\site-packages\\tensorflow\\python\\eager\\function.py\u001b[0m in \u001b[0;36m_call_flat\u001b[1;34m(self, args, captured_inputs, cancellation_manager)\u001b[0m\n\u001b[0;32m   1916\u001b[0m         and executing_eagerly):\n\u001b[0;32m   1917\u001b[0m       \u001b[1;31m# No tape is watching; skip to running the function.\u001b[0m\u001b[1;33m\u001b[0m\u001b[1;33m\u001b[0m\u001b[1;33m\u001b[0m\u001b[0m\n\u001b[1;32m-> 1918\u001b[1;33m       return self._build_call_outputs(self._inference_function.call(\n\u001b[0m\u001b[0;32m   1919\u001b[0m           ctx, args, cancellation_manager=cancellation_manager))\n\u001b[0;32m   1920\u001b[0m     forward_backward = self._select_forward_and_backward_functions(\n",
      "\u001b[1;32m~\\AppData\\Roaming\\Python\\Python38\\site-packages\\tensorflow\\python\\eager\\function.py\u001b[0m in \u001b[0;36mcall\u001b[1;34m(self, ctx, args, cancellation_manager)\u001b[0m\n\u001b[0;32m    553\u001b[0m       \u001b[1;32mwith\u001b[0m \u001b[0m_InterpolateFunctionError\u001b[0m\u001b[1;33m(\u001b[0m\u001b[0mself\u001b[0m\u001b[1;33m)\u001b[0m\u001b[1;33m:\u001b[0m\u001b[1;33m\u001b[0m\u001b[1;33m\u001b[0m\u001b[0m\n\u001b[0;32m    554\u001b[0m         \u001b[1;32mif\u001b[0m \u001b[0mcancellation_manager\u001b[0m \u001b[1;32mis\u001b[0m \u001b[1;32mNone\u001b[0m\u001b[1;33m:\u001b[0m\u001b[1;33m\u001b[0m\u001b[1;33m\u001b[0m\u001b[0m\n\u001b[1;32m--> 555\u001b[1;33m           outputs = execute.execute(\n\u001b[0m\u001b[0;32m    556\u001b[0m               \u001b[0mstr\u001b[0m\u001b[1;33m(\u001b[0m\u001b[0mself\u001b[0m\u001b[1;33m.\u001b[0m\u001b[0msignature\u001b[0m\u001b[1;33m.\u001b[0m\u001b[0mname\u001b[0m\u001b[1;33m)\u001b[0m\u001b[1;33m,\u001b[0m\u001b[1;33m\u001b[0m\u001b[1;33m\u001b[0m\u001b[0m\n\u001b[0;32m    557\u001b[0m               \u001b[0mnum_outputs\u001b[0m\u001b[1;33m=\u001b[0m\u001b[0mself\u001b[0m\u001b[1;33m.\u001b[0m\u001b[0m_num_outputs\u001b[0m\u001b[1;33m,\u001b[0m\u001b[1;33m\u001b[0m\u001b[1;33m\u001b[0m\u001b[0m\n",
      "\u001b[1;32m~\\AppData\\Roaming\\Python\\Python38\\site-packages\\tensorflow\\python\\eager\\execute.py\u001b[0m in \u001b[0;36mquick_execute\u001b[1;34m(op_name, num_outputs, inputs, attrs, ctx, name)\u001b[0m\n\u001b[0;32m     57\u001b[0m   \u001b[1;32mtry\u001b[0m\u001b[1;33m:\u001b[0m\u001b[1;33m\u001b[0m\u001b[1;33m\u001b[0m\u001b[0m\n\u001b[0;32m     58\u001b[0m     \u001b[0mctx\u001b[0m\u001b[1;33m.\u001b[0m\u001b[0mensure_initialized\u001b[0m\u001b[1;33m(\u001b[0m\u001b[1;33m)\u001b[0m\u001b[1;33m\u001b[0m\u001b[1;33m\u001b[0m\u001b[0m\n\u001b[1;32m---> 59\u001b[1;33m     tensors = pywrap_tfe.TFE_Py_Execute(ctx._handle, device_name, op_name,\n\u001b[0m\u001b[0;32m     60\u001b[0m                                         inputs, attrs, num_outputs)\n\u001b[0;32m     61\u001b[0m   \u001b[1;32mexcept\u001b[0m \u001b[0mcore\u001b[0m\u001b[1;33m.\u001b[0m\u001b[0m_NotOkStatusException\u001b[0m \u001b[1;32mas\u001b[0m \u001b[0me\u001b[0m\u001b[1;33m:\u001b[0m\u001b[1;33m\u001b[0m\u001b[1;33m\u001b[0m\u001b[0m\n",
      "\u001b[1;31mKeyboardInterrupt\u001b[0m: "
     ]
    }
   ],
   "source": [
    "history = model.fit(\n",
    "    train_generator,\n",
    "    validation_data = validation_generator,\n",
    "    batch_size=32,\n",
    "    epochs = 8,\n",
    "    callbacks=[callback])"
   ]
  },
  {
   "cell_type": "code",
   "execution_count": null,
   "id": "29bef49d",
   "metadata": {},
   "outputs": [],
   "source": []
  },
  {
   "cell_type": "code",
   "execution_count": null,
   "id": "951b916f",
   "metadata": {},
   "outputs": [],
   "source": []
  }
 ],
 "metadata": {
  "kernelspec": {
   "display_name": "prostate",
   "language": "python",
   "name": "prostate"
  },
  "language_info": {
   "codemirror_mode": {
    "name": "ipython",
    "version": 3
   },
   "file_extension": ".py",
   "mimetype": "text/x-python",
   "name": "python",
   "nbconvert_exporter": "python",
   "pygments_lexer": "ipython3",
   "version": "3.8.8"
  }
 },
 "nbformat": 4,
 "nbformat_minor": 5
}
